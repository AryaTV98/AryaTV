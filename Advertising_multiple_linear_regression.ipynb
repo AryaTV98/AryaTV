{
  "nbformat": 4,
  "nbformat_minor": 0,
  "metadata": {
    "colab": {
      "provenance": [],
      "authorship_tag": "ABX9TyNRDiQxleDKvvb6pJotF7Hw",
      "include_colab_link": true
    },
    "kernelspec": {
      "name": "python3",
      "display_name": "Python 3"
    },
    "language_info": {
      "name": "python"
    }
  },
  "cells": [
    {
      "cell_type": "markdown",
      "metadata": {
        "id": "view-in-github",
        "colab_type": "text"
      },
      "source": [
        "<a href=\"https://colab.research.google.com/github/AryaTV98/AryaTV/blob/main/Advertising_multiple_linear_regression.ipynb\" target=\"_parent\"><img src=\"https://colab.research.google.com/assets/colab-badge.svg\" alt=\"Open In Colab\"/></a>"
      ]
    },
    {
      "cell_type": "code",
      "execution_count": null,
      "metadata": {
        "colab": {
          "base_uri": "https://localhost:8080/",
          "height": 423
        },
        "id": "hgP8l1HQKkA1",
        "outputId": "06a373aa-92a1-4d2b-f884-7bfeb23987f5"
      },
      "outputs": [
        {
          "output_type": "execute_result",
          "data": {
            "text/plain": [
              "        TV  Radio  Newspaper  Sales\n",
              "0    230.1   37.8       69.2   22.1\n",
              "1     44.5   39.3       45.1   10.4\n",
              "2     17.2   45.9       69.3   12.0\n",
              "3    151.5   41.3       58.5   16.5\n",
              "4    180.8   10.8       58.4   17.9\n",
              "..     ...    ...        ...    ...\n",
              "195   38.2    3.7       13.8    7.6\n",
              "196   94.2    4.9        8.1   14.0\n",
              "197  177.0    9.3        6.4   14.8\n",
              "198  283.6   42.0       66.2   25.5\n",
              "199  232.1    8.6        8.7   18.4\n",
              "\n",
              "[200 rows x 4 columns]"
            ],
            "text/html": [
              "\n",
              "  <div id=\"df-5c007ddc-9c7c-4604-b08b-86ec138b9edc\">\n",
              "    <div class=\"colab-df-container\">\n",
              "      <div>\n",
              "<style scoped>\n",
              "    .dataframe tbody tr th:only-of-type {\n",
              "        vertical-align: middle;\n",
              "    }\n",
              "\n",
              "    .dataframe tbody tr th {\n",
              "        vertical-align: top;\n",
              "    }\n",
              "\n",
              "    .dataframe thead th {\n",
              "        text-align: right;\n",
              "    }\n",
              "</style>\n",
              "<table border=\"1\" class=\"dataframe\">\n",
              "  <thead>\n",
              "    <tr style=\"text-align: right;\">\n",
              "      <th></th>\n",
              "      <th>TV</th>\n",
              "      <th>Radio</th>\n",
              "      <th>Newspaper</th>\n",
              "      <th>Sales</th>\n",
              "    </tr>\n",
              "  </thead>\n",
              "  <tbody>\n",
              "    <tr>\n",
              "      <th>0</th>\n",
              "      <td>230.1</td>\n",
              "      <td>37.8</td>\n",
              "      <td>69.2</td>\n",
              "      <td>22.1</td>\n",
              "    </tr>\n",
              "    <tr>\n",
              "      <th>1</th>\n",
              "      <td>44.5</td>\n",
              "      <td>39.3</td>\n",
              "      <td>45.1</td>\n",
              "      <td>10.4</td>\n",
              "    </tr>\n",
              "    <tr>\n",
              "      <th>2</th>\n",
              "      <td>17.2</td>\n",
              "      <td>45.9</td>\n",
              "      <td>69.3</td>\n",
              "      <td>12.0</td>\n",
              "    </tr>\n",
              "    <tr>\n",
              "      <th>3</th>\n",
              "      <td>151.5</td>\n",
              "      <td>41.3</td>\n",
              "      <td>58.5</td>\n",
              "      <td>16.5</td>\n",
              "    </tr>\n",
              "    <tr>\n",
              "      <th>4</th>\n",
              "      <td>180.8</td>\n",
              "      <td>10.8</td>\n",
              "      <td>58.4</td>\n",
              "      <td>17.9</td>\n",
              "    </tr>\n",
              "    <tr>\n",
              "      <th>...</th>\n",
              "      <td>...</td>\n",
              "      <td>...</td>\n",
              "      <td>...</td>\n",
              "      <td>...</td>\n",
              "    </tr>\n",
              "    <tr>\n",
              "      <th>195</th>\n",
              "      <td>38.2</td>\n",
              "      <td>3.7</td>\n",
              "      <td>13.8</td>\n",
              "      <td>7.6</td>\n",
              "    </tr>\n",
              "    <tr>\n",
              "      <th>196</th>\n",
              "      <td>94.2</td>\n",
              "      <td>4.9</td>\n",
              "      <td>8.1</td>\n",
              "      <td>14.0</td>\n",
              "    </tr>\n",
              "    <tr>\n",
              "      <th>197</th>\n",
              "      <td>177.0</td>\n",
              "      <td>9.3</td>\n",
              "      <td>6.4</td>\n",
              "      <td>14.8</td>\n",
              "    </tr>\n",
              "    <tr>\n",
              "      <th>198</th>\n",
              "      <td>283.6</td>\n",
              "      <td>42.0</td>\n",
              "      <td>66.2</td>\n",
              "      <td>25.5</td>\n",
              "    </tr>\n",
              "    <tr>\n",
              "      <th>199</th>\n",
              "      <td>232.1</td>\n",
              "      <td>8.6</td>\n",
              "      <td>8.7</td>\n",
              "      <td>18.4</td>\n",
              "    </tr>\n",
              "  </tbody>\n",
              "</table>\n",
              "<p>200 rows × 4 columns</p>\n",
              "</div>\n",
              "      <button class=\"colab-df-convert\" onclick=\"convertToInteractive('df-5c007ddc-9c7c-4604-b08b-86ec138b9edc')\"\n",
              "              title=\"Convert this dataframe to an interactive table.\"\n",
              "              style=\"display:none;\">\n",
              "        \n",
              "  <svg xmlns=\"http://www.w3.org/2000/svg\" height=\"24px\"viewBox=\"0 0 24 24\"\n",
              "       width=\"24px\">\n",
              "    <path d=\"M0 0h24v24H0V0z\" fill=\"none\"/>\n",
              "    <path d=\"M18.56 5.44l.94 2.06.94-2.06 2.06-.94-2.06-.94-.94-2.06-.94 2.06-2.06.94zm-11 1L8.5 8.5l.94-2.06 2.06-.94-2.06-.94L8.5 2.5l-.94 2.06-2.06.94zm10 10l.94 2.06.94-2.06 2.06-.94-2.06-.94-.94-2.06-.94 2.06-2.06.94z\"/><path d=\"M17.41 7.96l-1.37-1.37c-.4-.4-.92-.59-1.43-.59-.52 0-1.04.2-1.43.59L10.3 9.45l-7.72 7.72c-.78.78-.78 2.05 0 2.83L4 21.41c.39.39.9.59 1.41.59.51 0 1.02-.2 1.41-.59l7.78-7.78 2.81-2.81c.8-.78.8-2.07 0-2.86zM5.41 20L4 18.59l7.72-7.72 1.47 1.35L5.41 20z\"/>\n",
              "  </svg>\n",
              "      </button>\n",
              "      \n",
              "  <style>\n",
              "    .colab-df-container {\n",
              "      display:flex;\n",
              "      flex-wrap:wrap;\n",
              "      gap: 12px;\n",
              "    }\n",
              "\n",
              "    .colab-df-convert {\n",
              "      background-color: #E8F0FE;\n",
              "      border: none;\n",
              "      border-radius: 50%;\n",
              "      cursor: pointer;\n",
              "      display: none;\n",
              "      fill: #1967D2;\n",
              "      height: 32px;\n",
              "      padding: 0 0 0 0;\n",
              "      width: 32px;\n",
              "    }\n",
              "\n",
              "    .colab-df-convert:hover {\n",
              "      background-color: #E2EBFA;\n",
              "      box-shadow: 0px 1px 2px rgba(60, 64, 67, 0.3), 0px 1px 3px 1px rgba(60, 64, 67, 0.15);\n",
              "      fill: #174EA6;\n",
              "    }\n",
              "\n",
              "    [theme=dark] .colab-df-convert {\n",
              "      background-color: #3B4455;\n",
              "      fill: #D2E3FC;\n",
              "    }\n",
              "\n",
              "    [theme=dark] .colab-df-convert:hover {\n",
              "      background-color: #434B5C;\n",
              "      box-shadow: 0px 1px 3px 1px rgba(0, 0, 0, 0.15);\n",
              "      filter: drop-shadow(0px 1px 2px rgba(0, 0, 0, 0.3));\n",
              "      fill: #FFFFFF;\n",
              "    }\n",
              "  </style>\n",
              "\n",
              "      <script>\n",
              "        const buttonEl =\n",
              "          document.querySelector('#df-5c007ddc-9c7c-4604-b08b-86ec138b9edc button.colab-df-convert');\n",
              "        buttonEl.style.display =\n",
              "          google.colab.kernel.accessAllowed ? 'block' : 'none';\n",
              "\n",
              "        async function convertToInteractive(key) {\n",
              "          const element = document.querySelector('#df-5c007ddc-9c7c-4604-b08b-86ec138b9edc');\n",
              "          const dataTable =\n",
              "            await google.colab.kernel.invokeFunction('convertToInteractive',\n",
              "                                                     [key], {});\n",
              "          if (!dataTable) return;\n",
              "\n",
              "          const docLinkHtml = 'Like what you see? Visit the ' +\n",
              "            '<a target=\"_blank\" href=https://colab.research.google.com/notebooks/data_table.ipynb>data table notebook</a>'\n",
              "            + ' to learn more about interactive tables.';\n",
              "          element.innerHTML = '';\n",
              "          dataTable['output_type'] = 'display_data';\n",
              "          await google.colab.output.renderOutput(dataTable, element);\n",
              "          const docLink = document.createElement('div');\n",
              "          docLink.innerHTML = docLinkHtml;\n",
              "          element.appendChild(docLink);\n",
              "        }\n",
              "      </script>\n",
              "    </div>\n",
              "  </div>\n",
              "  "
            ]
          },
          "metadata": {},
          "execution_count": 4
        }
      ],
      "source": [
        "import numpy as np\n",
        "import pandas as pd\n",
        "df=pd.read_csv(\"/content/Advertising.csv\")\n",
        "df"
      ]
    },
    {
      "cell_type": "code",
      "source": [
        "print(df.columns)"
      ],
      "metadata": {
        "colab": {
          "base_uri": "https://localhost:8080/"
        },
        "id": "EeE5R3mEP3yx",
        "outputId": "0a01e31e-c6f8-4968-be0a-8179c3555fdc"
      },
      "execution_count": null,
      "outputs": [
        {
          "output_type": "stream",
          "name": "stdout",
          "text": [
            "Index(['TV', 'Radio', 'Newspaper', 'Sales'], dtype='object')\n"
          ]
        }
      ]
    },
    {
      "cell_type": "code",
      "source": [
        "print(df.isna().sum())"
      ],
      "metadata": {
        "colab": {
          "base_uri": "https://localhost:8080/"
        },
        "id": "fi0tHfzfQIzF",
        "outputId": "9b84dd66-f223-48ed-b0e7-c9f51676816f"
      },
      "execution_count": null,
      "outputs": [
        {
          "output_type": "stream",
          "name": "stdout",
          "text": [
            "TV           0\n",
            "Radio        0\n",
            "Newspaper    0\n",
            "Sales        0\n",
            "dtype: int64\n"
          ]
        }
      ]
    },
    {
      "cell_type": "code",
      "source": [
        "x=df.iloc[:,:-1].values\n",
        "y=df.iloc[:,-1].values\n",
        "x"
      ],
      "metadata": {
        "colab": {
          "base_uri": "https://localhost:8080/"
        },
        "id": "xUdPeHR3QXbH",
        "outputId": "22352e67-91ee-4522-e4a9-e48dbc1939a7"
      },
      "execution_count": null,
      "outputs": [
        {
          "output_type": "execute_result",
          "data": {
            "text/plain": [
              "array([[230.1,  37.8,  69.2],\n",
              "       [ 44.5,  39.3,  45.1],\n",
              "       [ 17.2,  45.9,  69.3],\n",
              "       [151.5,  41.3,  58.5],\n",
              "       [180.8,  10.8,  58.4],\n",
              "       [  8.7,  48.9,  75. ],\n",
              "       [ 57.5,  32.8,  23.5],\n",
              "       [120.2,  19.6,  11.6],\n",
              "       [  8.6,   2.1,   1. ],\n",
              "       [199.8,   2.6,  21.2],\n",
              "       [ 66.1,   5.8,  24.2],\n",
              "       [214.7,  24. ,   4. ],\n",
              "       [ 23.8,  35.1,  65.9],\n",
              "       [ 97.5,   7.6,   7.2],\n",
              "       [204.1,  32.9,  46. ],\n",
              "       [195.4,  47.7,  52.9],\n",
              "       [ 67.8,  36.6, 114. ],\n",
              "       [281.4,  39.6,  55.8],\n",
              "       [ 69.2,  20.5,  18.3],\n",
              "       [147.3,  23.9,  19.1],\n",
              "       [218.4,  27.7,  53.4],\n",
              "       [237.4,   5.1,  23.5],\n",
              "       [ 13.2,  15.9,  49.6],\n",
              "       [228.3,  16.9,  26.2],\n",
              "       [ 62.3,  12.6,  18.3],\n",
              "       [262.9,   3.5,  19.5],\n",
              "       [142.9,  29.3,  12.6],\n",
              "       [240.1,  16.7,  22.9],\n",
              "       [248.8,  27.1,  22.9],\n",
              "       [ 70.6,  16. ,  40.8],\n",
              "       [292.9,  28.3,  43.2],\n",
              "       [112.9,  17.4,  38.6],\n",
              "       [ 97.2,   1.5,  30. ],\n",
              "       [265.6,  20. ,   0.3],\n",
              "       [ 95.7,   1.4,   7.4],\n",
              "       [290.7,   4.1,   8.5],\n",
              "       [266.9,  43.8,   5. ],\n",
              "       [ 74.7,  49.4,  45.7],\n",
              "       [ 43.1,  26.7,  35.1],\n",
              "       [228. ,  37.7,  32. ],\n",
              "       [202.5,  22.3,  31.6],\n",
              "       [177. ,  33.4,  38.7],\n",
              "       [293.6,  27.7,   1.8],\n",
              "       [206.9,   8.4,  26.4],\n",
              "       [ 25.1,  25.7,  43.3],\n",
              "       [175.1,  22.5,  31.5],\n",
              "       [ 89.7,   9.9,  35.7],\n",
              "       [239.9,  41.5,  18.5],\n",
              "       [227.2,  15.8,  49.9],\n",
              "       [ 66.9,  11.7,  36.8],\n",
              "       [199.8,   3.1,  34.6],\n",
              "       [100.4,   9.6,   3.6],\n",
              "       [216.4,  41.7,  39.6],\n",
              "       [182.6,  46.2,  58.7],\n",
              "       [262.7,  28.8,  15.9],\n",
              "       [198.9,  49.4,  60. ],\n",
              "       [  7.3,  28.1,  41.4],\n",
              "       [136.2,  19.2,  16.6],\n",
              "       [210.8,  49.6,  37.7],\n",
              "       [210.7,  29.5,   9.3],\n",
              "       [ 53.5,   2. ,  21.4],\n",
              "       [261.3,  42.7,  54.7],\n",
              "       [239.3,  15.5,  27.3],\n",
              "       [102.7,  29.6,   8.4],\n",
              "       [131.1,  42.8,  28.9],\n",
              "       [ 69. ,   9.3,   0.9],\n",
              "       [ 31.5,  24.6,   2.2],\n",
              "       [139.3,  14.5,  10.2],\n",
              "       [237.4,  27.5,  11. ],\n",
              "       [216.8,  43.9,  27.2],\n",
              "       [199.1,  30.6,  38.7],\n",
              "       [109.8,  14.3,  31.7],\n",
              "       [ 26.8,  33. ,  19.3],\n",
              "       [129.4,   5.7,  31.3],\n",
              "       [213.4,  24.6,  13.1],\n",
              "       [ 16.9,  43.7,  89.4],\n",
              "       [ 27.5,   1.6,  20.7],\n",
              "       [120.5,  28.5,  14.2],\n",
              "       [  5.4,  29.9,   9.4],\n",
              "       [116. ,   7.7,  23.1],\n",
              "       [ 76.4,  26.7,  22.3],\n",
              "       [239.8,   4.1,  36.9],\n",
              "       [ 75.3,  20.3,  32.5],\n",
              "       [ 68.4,  44.5,  35.6],\n",
              "       [213.5,  43. ,  33.8],\n",
              "       [193.2,  18.4,  65.7],\n",
              "       [ 76.3,  27.5,  16. ],\n",
              "       [110.7,  40.6,  63.2],\n",
              "       [ 88.3,  25.5,  73.4],\n",
              "       [109.8,  47.8,  51.4],\n",
              "       [134.3,   4.9,   9.3],\n",
              "       [ 28.6,   1.5,  33. ],\n",
              "       [217.7,  33.5,  59. ],\n",
              "       [250.9,  36.5,  72.3],\n",
              "       [107.4,  14. ,  10.9],\n",
              "       [163.3,  31.6,  52.9],\n",
              "       [197.6,   3.5,   5.9],\n",
              "       [184.9,  21. ,  22. ],\n",
              "       [289.7,  42.3,  51.2],\n",
              "       [135.2,  41.7,  45.9],\n",
              "       [222.4,   4.3,  49.8],\n",
              "       [296.4,  36.3, 100.9],\n",
              "       [280.2,  10.1,  21.4],\n",
              "       [187.9,  17.2,  17.9],\n",
              "       [238.2,  34.3,   5.3],\n",
              "       [137.9,  46.4,  59. ],\n",
              "       [ 25. ,  11. ,  29.7],\n",
              "       [ 90.4,   0.3,  23.2],\n",
              "       [ 13.1,   0.4,  25.6],\n",
              "       [255.4,  26.9,   5.5],\n",
              "       [225.8,   8.2,  56.5],\n",
              "       [241.7,  38. ,  23.2],\n",
              "       [175.7,  15.4,   2.4],\n",
              "       [209.6,  20.6,  10.7],\n",
              "       [ 78.2,  46.8,  34.5],\n",
              "       [ 75.1,  35. ,  52.7],\n",
              "       [139.2,  14.3,  25.6],\n",
              "       [ 76.4,   0.8,  14.8],\n",
              "       [125.7,  36.9,  79.2],\n",
              "       [ 19.4,  16. ,  22.3],\n",
              "       [141.3,  26.8,  46.2],\n",
              "       [ 18.8,  21.7,  50.4],\n",
              "       [224. ,   2.4,  15.6],\n",
              "       [123.1,  34.6,  12.4],\n",
              "       [229.5,  32.3,  74.2],\n",
              "       [ 87.2,  11.8,  25.9],\n",
              "       [  7.8,  38.9,  50.6],\n",
              "       [ 80.2,   0. ,   9.2],\n",
              "       [220.3,  49. ,   3.2],\n",
              "       [ 59.6,  12. ,  43.1],\n",
              "       [  0.7,  39.6,   8.7],\n",
              "       [265.2,   2.9,  43. ],\n",
              "       [  8.4,  27.2,   2.1],\n",
              "       [219.8,  33.5,  45.1],\n",
              "       [ 36.9,  38.6,  65.6],\n",
              "       [ 48.3,  47. ,   8.5],\n",
              "       [ 25.6,  39. ,   9.3],\n",
              "       [273.7,  28.9,  59.7],\n",
              "       [ 43. ,  25.9,  20.5],\n",
              "       [184.9,  43.9,   1.7],\n",
              "       [ 73.4,  17. ,  12.9],\n",
              "       [193.7,  35.4,  75.6],\n",
              "       [220.5,  33.2,  37.9],\n",
              "       [104.6,   5.7,  34.4],\n",
              "       [ 96.2,  14.8,  38.9],\n",
              "       [140.3,   1.9,   9. ],\n",
              "       [240.1,   7.3,   8.7],\n",
              "       [243.2,  49. ,  44.3],\n",
              "       [ 38. ,  40.3,  11.9],\n",
              "       [ 44.7,  25.8,  20.6],\n",
              "       [280.7,  13.9,  37. ],\n",
              "       [121. ,   8.4,  48.7],\n",
              "       [197.6,  23.3,  14.2],\n",
              "       [171.3,  39.7,  37.7],\n",
              "       [187.8,  21.1,   9.5],\n",
              "       [  4.1,  11.6,   5.7],\n",
              "       [ 93.9,  43.5,  50.5],\n",
              "       [149.8,   1.3,  24.3],\n",
              "       [ 11.7,  36.9,  45.2],\n",
              "       [131.7,  18.4,  34.6],\n",
              "       [172.5,  18.1,  30.7],\n",
              "       [ 85.7,  35.8,  49.3],\n",
              "       [188.4,  18.1,  25.6],\n",
              "       [163.5,  36.8,   7.4],\n",
              "       [117.2,  14.7,   5.4],\n",
              "       [234.5,   3.4,  84.8],\n",
              "       [ 17.9,  37.6,  21.6],\n",
              "       [206.8,   5.2,  19.4],\n",
              "       [215.4,  23.6,  57.6],\n",
              "       [284.3,  10.6,   6.4],\n",
              "       [ 50. ,  11.6,  18.4],\n",
              "       [164.5,  20.9,  47.4],\n",
              "       [ 19.6,  20.1,  17. ],\n",
              "       [168.4,   7.1,  12.8],\n",
              "       [222.4,   3.4,  13.1],\n",
              "       [276.9,  48.9,  41.8],\n",
              "       [248.4,  30.2,  20.3],\n",
              "       [170.2,   7.8,  35.2],\n",
              "       [276.7,   2.3,  23.7],\n",
              "       [165.6,  10. ,  17.6],\n",
              "       [156.6,   2.6,   8.3],\n",
              "       [218.5,   5.4,  27.4],\n",
              "       [ 56.2,   5.7,  29.7],\n",
              "       [287.6,  43. ,  71.8],\n",
              "       [253.8,  21.3,  30. ],\n",
              "       [205. ,  45.1,  19.6],\n",
              "       [139.5,   2.1,  26.6],\n",
              "       [191.1,  28.7,  18.2],\n",
              "       [286. ,  13.9,   3.7],\n",
              "       [ 18.7,  12.1,  23.4],\n",
              "       [ 39.5,  41.1,   5.8],\n",
              "       [ 75.5,  10.8,   6. ],\n",
              "       [ 17.2,   4.1,  31.6],\n",
              "       [166.8,  42. ,   3.6],\n",
              "       [149.7,  35.6,   6. ],\n",
              "       [ 38.2,   3.7,  13.8],\n",
              "       [ 94.2,   4.9,   8.1],\n",
              "       [177. ,   9.3,   6.4],\n",
              "       [283.6,  42. ,  66.2],\n",
              "       [232.1,   8.6,   8.7]])"
            ]
          },
          "metadata": {},
          "execution_count": 7
        }
      ]
    },
    {
      "cell_type": "code",
      "source": [
        "y"
      ],
      "metadata": {
        "colab": {
          "base_uri": "https://localhost:8080/"
        },
        "id": "rwH9-yhlQw9J",
        "outputId": "c75784a2-81a3-4a6d-b413-0a2d213cbd8f"
      },
      "execution_count": null,
      "outputs": [
        {
          "output_type": "execute_result",
          "data": {
            "text/plain": [
              "array([22.1, 10.4, 12. , 16.5, 17.9,  7.2, 11.8, 13.2,  4.8, 15.6, 12.6,\n",
              "       17.4,  9.2, 13.7, 19. , 22.4, 12.5, 24.4, 11.3, 14.6, 18. , 17.5,\n",
              "        5.6, 20.5,  9.7, 17. , 15. , 20.9, 18.9, 10.5, 21.4, 11.9, 13.2,\n",
              "       17.4, 11.9, 17.8, 25.4, 14.7, 10.1, 21.5, 16.6, 17.1, 20.7, 17.9,\n",
              "        8.5, 16.1, 10.6, 23.2, 19.8,  9.7, 16.4, 10.7, 22.6, 21.2, 20.2,\n",
              "       23.7,  5.5, 13.2, 23.8, 18.4,  8.1, 24.2, 20.7, 14. , 16. , 11.3,\n",
              "       11. , 13.4, 18.9, 22.3, 18.3, 12.4,  8.8, 11. , 17. ,  8.7,  6.9,\n",
              "       14.2,  5.3, 11. , 11.8, 17.3, 11.3, 13.6, 21.7, 20.2, 12. , 16. ,\n",
              "       12.9, 16.7, 14. ,  7.3, 19.4, 22.2, 11.5, 16.9, 16.7, 20.5, 25.4,\n",
              "       17.2, 16.7, 23.8, 19.8, 19.7, 20.7, 15. ,  7.2, 12. ,  5.3, 19.8,\n",
              "       18.4, 21.8, 17.1, 20.9, 14.6, 12.6, 12.2,  9.4, 15.9,  6.6, 15.5,\n",
              "        7. , 16.6, 15.2, 19.7, 10.6,  6.6, 11.9, 24.7,  9.7,  1.6, 17.7,\n",
              "        5.7, 19.6, 10.8, 11.6,  9.5, 20.8,  9.6, 20.7, 10.9, 19.2, 20.1,\n",
              "       10.4, 12.3, 10.3, 18.2, 25.4, 10.9, 10.1, 16.1, 11.6, 16.6, 16. ,\n",
              "       20.6,  3.2, 15.3, 10.1,  7.3, 12.9, 16.4, 13.3, 19.9, 18. , 11.9,\n",
              "       16.9,  8. , 17.2, 17.1, 20. ,  8.4, 17.5,  7.6, 16.7, 16.5, 27. ,\n",
              "       20.2, 16.7, 16.8, 17.6, 15.5, 17.2,  8.7, 26.2, 17.6, 22.6, 10.3,\n",
              "       17.3, 20.9,  6.7, 10.8, 11.9,  5.9, 19.6, 17.3,  7.6, 14. , 14.8,\n",
              "       25.5, 18.4])"
            ]
          },
          "metadata": {},
          "execution_count": 8
        }
      ]
    },
    {
      "cell_type": "code",
      "source": [
        "#TV vs sales\n",
        "import seaborn as sns\n",
        "sns.regplot(x=df['TV'],y=y,color='blue')"
      ],
      "metadata": {
        "colab": {
          "base_uri": "https://localhost:8080/",
          "height": 297
        },
        "id": "FHF_5cfLSrMc",
        "outputId": "67dcafa8-c0bc-41ff-ac7c-df462952e900"
      },
      "execution_count": null,
      "outputs": [
        {
          "output_type": "execute_result",
          "data": {
            "text/plain": [
              "<matplotlib.axes._subplots.AxesSubplot at 0x7f16b8899ca0>"
            ]
          },
          "metadata": {},
          "execution_count": 9
        },
        {
          "output_type": "display_data",
          "data": {
            "text/plain": [
              "<Figure size 432x288 with 1 Axes>"
            ],
            "image/png": "[encoded data removed]"
          },
          "metadata": {
            "needs_background": "light"
          }
        }
      ]
    },
    {
      "cell_type": "code",
      "source": [],
      "metadata": {
        "id": "006MSs8GT5SM"
      },
      "execution_count": null,
      "outputs": []
    },
    {
      "cell_type": "code",
      "source": [
        "#radio vs sales\n",
        "import seaborn as sns\n",
        "sns.regplot(x=df['Radio'],y=y,color='green')"
      ],
      "metadata": {
        "colab": {
          "base_uri": "https://localhost:8080/",
          "height": 297
        },
        "outputId": "7a04eed4-990c-45ed-b61f-88d09f55e748",
        "id": "L8NQjikNT6EO"
      },
      "execution_count": null,
      "outputs": [
        {
          "output_type": "execute_result",
          "data": {
            "text/plain": [
              "<matplotlib.axes._subplots.AxesSubplot at 0x7f16b0f840d0>"
            ]
          },
          "metadata": {},
          "execution_count": 10
        },
        {
          "output_type": "display_data",
          "data": {
            "text/plain": [
              "<Figure size 432x288 with 1 Axes>"
            ],
            "image/png": "[encoded data removed]"
          },
          "metadata": {
            "needs_background": "light"
          }
        }
      ]
    },
    {
      "cell_type": "code",
      "source": [],
      "metadata": {
        "id": "yx8DalaEUbXd"
      },
      "execution_count": null,
      "outputs": []
    },
    {
      "cell_type": "code",
      "source": [
        "#new paper vs sales\n",
        "import seaborn as sns\n",
        "sns.regplot(x=df['Newspaper'],y=y,color='red')"
      ],
      "metadata": {
        "colab": {
          "base_uri": "https://localhost:8080/",
          "height": 297
        },
        "outputId": "b9c57625-b81d-4cfb-a47c-b333e17a16ed",
        "id": "07-KxWESUdtX"
      },
      "execution_count": null,
      "outputs": [
        {
          "output_type": "execute_result",
          "data": {
            "text/plain": [
              "<matplotlib.axes._subplots.AxesSubplot at 0x7f16b0a9e250>"
            ]
          },
          "metadata": {},
          "execution_count": 11
        },
        {
          "output_type": "display_data",
          "data": {
            "text/plain": [
              "<Figure size 432x288 with 1 Axes>"
            ],
            "image/png": "[encoded data removed]"
          },
          "metadata": {
            "needs_background": "light"
          }
        }
      ]
    },
    {
      "cell_type": "code",
      "source": [],
      "metadata": {
        "id": "5HV4oHhCU0vX"
      },
      "execution_count": null,
      "outputs": []
    },
    {
      "cell_type": "code",
      "source": [
        "from sklearn.model_selection import train_test_split\n",
        "x_train,x_test,y_train,y_test=train_test_split(x,y,test_size=0.30,random_state=1)\n",
        "x_train"
      ],
      "metadata": {
        "colab": {
          "base_uri": "https://localhost:8080/"
        },
        "id": "394hzNzNcEoh",
        "outputId": "20c41b96-c0eb-4e02-e70c-7e5746901677"
      },
      "execution_count": null,
      "outputs": [
        {
          "output_type": "execute_result",
          "data": {
            "text/plain": [
              "array([[139.2,  14.3,  25.6],\n",
              "       [139.3,  14.5,  10.2],\n",
              "       [  5.4,  29.9,   9.4],\n",
              "       [293.6,  27.7,   1.8],\n",
              "       [281.4,  39.6,  55.8],\n",
              "       [  8.7,  48.9,  75. ],\n",
              "       [ 80.2,   0. ,   9.2],\n",
              "       [137.9,  46.4,  59. ],\n",
              "       [227.2,  15.8,  49.9],\n",
              "       [ 31.5,  24.6,   2.2],\n",
              "       [262.7,  28.8,  15.9],\n",
              "       [213.5,  43. ,  33.8],\n",
              "       [287.6,  43. ,  71.8],\n",
              "       [ 11.7,  36.9,  45.2],\n",
              "       [ 17.9,  37.6,  21.6],\n",
              "       [209.6,  20.6,  10.7],\n",
              "       [ 23.8,  35.1,  65.9],\n",
              "       [ 76.4,   0.8,  14.8],\n",
              "       [250.9,  36.5,  72.3],\n",
              "       [141.3,  26.8,  46.2],\n",
              "       [187.8,  21.1,   9.5],\n",
              "       [134.3,   4.9,   9.3],\n",
              "       [239.8,   4.1,  36.9],\n",
              "       [224. ,   2.4,  15.6],\n",
              "       [ 75.5,  10.8,   6. ],\n",
              "       [ 97.5,   7.6,   7.2],\n",
              "       [ 75.3,  20.3,  32.5],\n",
              "       [  8.4,  27.2,   2.1],\n",
              "       [191.1,  28.7,  18.2],\n",
              "       [175.1,  22.5,  31.5],\n",
              "       [135.2,  41.7,  45.9],\n",
              "       [266.9,  43.8,   5. ],\n",
              "       [ 85.7,  35.8,  49.3],\n",
              "       [139.5,   2.1,  26.6],\n",
              "       [171.3,  39.7,  37.7],\n",
              "       [187.9,  17.2,  17.9],\n",
              "       [ 38.2,   3.7,  13.8],\n",
              "       [177. ,   9.3,   6.4],\n",
              "       [ 38. ,  40.3,  11.9],\n",
              "       [168.4,   7.1,  12.8],\n",
              "       [ 16.9,  43.7,  89.4],\n",
              "       [237.4,   5.1,  23.5],\n",
              "       [ 28.6,   1.5,  33. ],\n",
              "       [197.6,  23.3,  14.2],\n",
              "       [ 17.2,  45.9,  69.3],\n",
              "       [199.1,  30.6,  38.7],\n",
              "       [193.2,  18.4,  65.7],\n",
              "       [280.7,  13.9,  37. ],\n",
              "       [ 57.5,  32.8,  23.5],\n",
              "       [175.7,  15.4,   2.4],\n",
              "       [230.1,  37.8,  69.2],\n",
              "       [  4.1,  11.6,   5.7],\n",
              "       [120.5,  28.5,  14.2],\n",
              "       [ 69. ,   9.3,   0.9],\n",
              "       [198.9,  49.4,  60. ],\n",
              "       [206.8,   5.2,  19.4],\n",
              "       [ 88.3,  25.5,  73.4],\n",
              "       [  0.7,  39.6,   8.7],\n",
              "       [ 89.7,   9.9,  35.7],\n",
              "       [239.3,  15.5,  27.3],\n",
              "       [213.4,  24.6,  13.1],\n",
              "       [217.7,  33.5,  59. ],\n",
              "       [243.2,  49. ,  44.3],\n",
              "       [172.5,  18.1,  30.7],\n",
              "       [104.6,   5.7,  34.4],\n",
              "       [110.7,  40.6,  63.2],\n",
              "       [156.6,   2.6,   8.3],\n",
              "       [140.3,   1.9,   9. ],\n",
              "       [117.2,  14.7,   5.4],\n",
              "       [ 66.1,   5.8,  24.2],\n",
              "       [ 97.2,   1.5,  30. ],\n",
              "       [ 68.4,  44.5,  35.6],\n",
              "       [ 56.2,   5.7,  29.7],\n",
              "       [222.4,   4.3,  49.8],\n",
              "       [ 87.2,  11.8,  25.9],\n",
              "       [228.3,  16.9,  26.2],\n",
              "       [  7.8,  38.9,  50.6],\n",
              "       [199.8,   2.6,  21.2],\n",
              "       [ 50. ,  11.6,  18.4],\n",
              "       [238.2,  34.3,   5.3],\n",
              "       [121. ,   8.4,  48.7],\n",
              "       [ 48.3,  47. ,   8.5],\n",
              "       [241.7,  38. ,  23.2],\n",
              "       [286. ,  13.9,   3.7],\n",
              "       [131.1,  42.8,  28.9],\n",
              "       [195.4,  47.7,  52.9],\n",
              "       [177. ,  33.4,  38.7],\n",
              "       [163.5,  36.8,   7.4],\n",
              "       [255.4,  26.9,   5.5],\n",
              "       [ 76.4,  26.7,  22.3],\n",
              "       [216.4,  41.7,  39.6],\n",
              "       [142.9,  29.3,  12.6],\n",
              "       [ 27.5,   1.6,  20.7],\n",
              "       [206.9,   8.4,  26.4],\n",
              "       [ 62.3,  12.6,  18.3],\n",
              "       [151.5,  41.3,  58.5],\n",
              "       [284.3,  10.6,   6.4],\n",
              "       [ 66.9,  11.7,  36.8],\n",
              "       [ 44.7,  25.8,  20.6],\n",
              "       [265.2,   2.9,  43. ],\n",
              "       [ 39.5,  41.1,   5.8],\n",
              "       [292.9,  28.3,  43.2],\n",
              "       [ 18.8,  21.7,  50.4],\n",
              "       [ 75.1,  35. ,  52.7],\n",
              "       [276.9,  48.9,  41.8],\n",
              "       [  8.6,   2.1,   1. ],\n",
              "       [ 53.5,   2. ,  21.4],\n",
              "       [220.3,  49. ,   3.2],\n",
              "       [ 44.5,  39.3,  45.1],\n",
              "       [136.2,  19.2,  16.6],\n",
              "       [ 13.2,  15.9,  49.6],\n",
              "       [261.3,  42.7,  54.7],\n",
              "       [102.7,  29.6,   8.4],\n",
              "       [120.2,  19.6,  11.6],\n",
              "       [ 94.2,   4.9,   8.1],\n",
              "       [193.7,  35.4,  75.6],\n",
              "       [ 76.3,  27.5,  16. ],\n",
              "       [197.6,   3.5,   5.9],\n",
              "       [237.4,  27.5,  11. ],\n",
              "       [199.8,   3.1,  34.6],\n",
              "       [220.5,  33.2,  37.9],\n",
              "       [149.8,   1.3,  24.3],\n",
              "       [ 93.9,  43.5,  50.5],\n",
              "       [184.9,  43.9,   1.7],\n",
              "       [240.1,   7.3,   8.7],\n",
              "       [296.4,  36.3, 100.9],\n",
              "       [218.4,  27.7,  53.4],\n",
              "       [276.7,   2.3,  23.7],\n",
              "       [262.9,   3.5,  19.5],\n",
              "       [ 36.9,  38.6,  65.6],\n",
              "       [109.8,  14.3,  31.7],\n",
              "       [ 59.6,  12. ,  43.1],\n",
              "       [ 96.2,  14.8,  38.9],\n",
              "       [ 17.2,   4.1,  31.6],\n",
              "       [116. ,   7.7,  23.1],\n",
              "       [219.8,  33.5,  45.1],\n",
              "       [273.7,  28.9,  59.7],\n",
              "       [ 26.8,  33. ,  19.3],\n",
              "       [ 73.4,  17. ,  12.9],\n",
              "       [ 74.7,  49.4,  45.7]])"
            ]
          },
          "metadata": {},
          "execution_count": 12
        }
      ]
    },
    {
      "cell_type": "code",
      "source": [
        "x_test"
      ],
      "metadata": {
        "colab": {
          "base_uri": "https://localhost:8080/"
        },
        "id": "fiX3cN_FVC22",
        "outputId": "183d6ccf-fe59-4890-8bef-a8601990e3aa"
      },
      "execution_count": null,
      "outputs": [
        {
          "output_type": "execute_result",
          "data": {
            "text/plain": [
              "array([[210.8,  49.6,  37.7],\n",
              "       [202.5,  22.3,  31.6],\n",
              "       [ 95.7,   1.4,   7.4],\n",
              "       [280.2,  10.1,  21.4],\n",
              "       [253.8,  21.3,  30. ],\n",
              "       [283.6,  42. ,  66.2],\n",
              "       [163.3,  31.6,  52.9],\n",
              "       [180.8,  10.8,  58.4],\n",
              "       [ 70.6,  16. ,  40.8],\n",
              "       [215.4,  23.6,  57.6],\n",
              "       [164.5,  20.9,  47.4],\n",
              "       [ 69.2,  20.5,  18.3],\n",
              "       [214.7,  24. ,   4. ],\n",
              "       [109.8,  47.8,  51.4],\n",
              "       [225.8,   8.2,  56.5],\n",
              "       [125.7,  36.9,  79.2],\n",
              "       [131.7,  18.4,  34.6],\n",
              "       [290.7,   4.1,   8.5],\n",
              "       [ 25.6,  39. ,   9.3],\n",
              "       [210.7,  29.5,   9.3],\n",
              "       [100.4,   9.6,   3.6],\n",
              "       [ 67.8,  36.6, 114. ],\n",
              "       [ 25.1,  25.7,  43.3],\n",
              "       [107.4,  14. ,  10.9],\n",
              "       [112.9,  17.4,  38.6],\n",
              "       [188.4,  18.1,  25.6],\n",
              "       [ 43.1,  26.7,  35.1],\n",
              "       [248.8,  27.1,  22.9],\n",
              "       [166.8,  42. ,   3.6],\n",
              "       [240.1,  16.7,  22.9],\n",
              "       [239.9,  41.5,  18.5],\n",
              "       [234.5,   3.4,  84.8],\n",
              "       [149.7,  35.6,   6. ],\n",
              "       [170.2,   7.8,  35.2],\n",
              "       [248.4,  30.2,  20.3],\n",
              "       [184.9,  21. ,  22. ],\n",
              "       [222.4,   3.4,  13.1],\n",
              "       [129.4,   5.7,  31.3],\n",
              "       [216.8,  43.9,  27.2],\n",
              "       [ 19.6,  20.1,  17. ],\n",
              "       [ 13.1,   0.4,  25.6],\n",
              "       [ 90.4,   0.3,  23.2],\n",
              "       [ 18.7,  12.1,  23.4],\n",
              "       [204.1,  32.9,  46. ],\n",
              "       [  7.3,  28.1,  41.4],\n",
              "       [147.3,  23.9,  19.1],\n",
              "       [ 78.2,  46.8,  34.5],\n",
              "       [228. ,  37.7,  32. ],\n",
              "       [205. ,  45.1,  19.6],\n",
              "       [229.5,  32.3,  74.2],\n",
              "       [289.7,  42.3,  51.2],\n",
              "       [123.1,  34.6,  12.4],\n",
              "       [ 19.4,  16. ,  22.3],\n",
              "       [182.6,  46.2,  58.7],\n",
              "       [265.6,  20. ,   0.3],\n",
              "       [165.6,  10. ,  17.6],\n",
              "       [218.5,   5.4,  27.4],\n",
              "       [ 25. ,  11. ,  29.7],\n",
              "       [232.1,   8.6,   8.7],\n",
              "       [ 43. ,  25.9,  20.5]])"
            ]
          },
          "metadata": {},
          "execution_count": 13
        }
      ]
    },
    {
      "cell_type": "code",
      "source": [
        "y_train"
      ],
      "metadata": {
        "colab": {
          "base_uri": "https://localhost:8080/"
        },
        "id": "bHgzdM_jVIwJ",
        "outputId": "a1461942-0adf-4399-e1e2-450fd1a7cf7c"
      },
      "execution_count": null,
      "outputs": [
        {
          "output_type": "execute_result",
          "data": {
            "text/plain": [
              "array([12.2, 13.4,  5.3, 20.7, 24.4,  7.2, 11.9, 15. , 19.8, 11. , 20.2,\n",
              "       21.7, 26.2,  7.3,  8. , 20.9,  9.2,  9.4, 22.2, 15.5, 20.6, 14. ,\n",
              "       17.3, 16.6, 11.9, 13.7, 11.3,  5.7, 17.3, 16.1, 17.2, 25.4, 13.3,\n",
              "       10.3, 16. , 19.7,  7.6, 14.8, 10.9, 16.7,  8.7, 17.5,  7.3, 16.6,\n",
              "       12. , 18.3, 20.2, 16.1, 11.8, 17.1, 22.1,  3.2, 14.2, 11.3, 23.7,\n",
              "       17.2, 12.9,  1.6, 10.6, 20.7, 17. , 19.4, 25.4, 16.4, 10.4, 16. ,\n",
              "       15.5, 10.3, 11.9, 12.6, 13.2, 13.6,  8.7, 16.7, 10.6, 20.5,  6.6,\n",
              "       15.6,  8.4, 20.7, 11.6, 11.6, 21.8, 20.9, 16. , 22.4, 17.1, 18. ,\n",
              "       19.8, 11.8, 22.6, 15. ,  6.9, 17.9,  9.7, 16.5, 20. ,  9.7, 10.1,\n",
              "       17.7, 10.8, 21.4,  7. , 12.6, 27. ,  4.8,  8.1, 24.7, 10.4, 13.2,\n",
              "        5.6, 24.2, 14. , 13.2, 14. , 19.2, 12. , 16.7, 18.9, 16.4, 20.1,\n",
              "       10.1, 15.3, 20.7, 18.2, 23.8, 18. , 16.8, 17. , 10.8, 12.4,  9.7,\n",
              "       12.3,  5.9, 11. , 19.6, 20.8,  8.8, 10.9, 14.7])"
            ]
          },
          "metadata": {},
          "execution_count": 14
        }
      ]
    },
    {
      "cell_type": "code",
      "source": [
        "y_test"
      ],
      "metadata": {
        "colab": {
          "base_uri": "https://localhost:8080/"
        },
        "id": "YlVUzdbwVLDw",
        "outputId": "2b501d9d-04f3-41af-bdf5-21a32a2c853a"
      },
      "execution_count": null,
      "outputs": [
        {
          "output_type": "execute_result",
          "data": {
            "text/plain": [
              "array([23.8, 16.6, 11.9, 19.8, 17.6, 25.5, 16.9, 17.9, 10.5, 17.1, 17.5,\n",
              "       11.3, 17.4, 16.7, 18.4, 15.9, 12.9, 17.8,  9.5, 18.4, 10.7, 12.5,\n",
              "        8.5, 11.5, 11.9, 19.9, 10.1, 18.9, 19.6, 20.9, 23.2, 16.9, 17.3,\n",
              "       16.7, 20.2, 20.5, 16.5, 11. , 22.3,  7.6,  5.3, 12. ,  6.7, 19. ,\n",
              "        5.5, 14.6, 14.6, 21.5, 22.6, 19.7, 25.4, 15.2,  6.6, 21.2, 17.4,\n",
              "       17.6, 17.2,  7.2, 18.4,  9.6])"
            ]
          },
          "metadata": {},
          "execution_count": 15
        }
      ]
    },
    {
      "cell_type": "code",
      "source": [],
      "metadata": {
        "id": "VRpygTOBV_Am"
      },
      "execution_count": null,
      "outputs": []
    },
    {
      "cell_type": "code",
      "source": [
        "from sklearn.linear_model import LinearRegression\n",
        "model=LinearRegression()\n",
        "model.fit(x_train,y_train)\n",
        "y_pred=model.predict(x_test)\n",
        "y_pred\n",
        "print(model.predict([[150,85,80]]))"
      ],
      "metadata": {
        "colab": {
          "base_uri": "https://localhost:8080/"
        },
        "outputId": "b94195ae-99f9-4afa-ee76-46a2d9ea46b5",
        "id": "zNuqAxZAXMIN"
      },
      "execution_count": null,
      "outputs": [
        {
          "output_type": "stream",
          "name": "stdout",
          "text": [
            "[21.50781124]\n"
          ]
        }
      ]
    },
    {
      "cell_type": "code",
      "source": [],
      "metadata": {
        "id": "I8i_03pLZH6q"
      },
      "execution_count": null,
      "outputs": []
    },
    {
      "cell_type": "code",
      "source": [
        "print(\"intercept\",model.intercept_)\n",
        "list(zip(x,model.coef_))"
      ],
      "metadata": {
        "colab": {
          "base_uri": "https://localhost:8080/"
        },
        "id": "ufS6bYu6XyTc",
        "outputId": "2d640818-5f00-4ac1-9449-bab0cf2807ef"
      },
      "execution_count": null,
      "outputs": [
        {
          "output_type": "stream",
          "name": "stdout",
          "text": [
            "intercept 4.661439720130813\n"
          ]
        },
        {
          "output_type": "execute_result",
          "data": {
            "text/plain": [
              "[(array([230.1,  37.8,  69.2]), 0.05502391767315305),\n",
              " (array([44.5, 39.3, 45.1]), 0.10251002697521275),\n",
              " (array([17.2, 45.9, 69.3]), -0.0015071052925105521)]"
            ]
          },
          "metadata": {},
          "execution_count": 17
        }
      ]
    },
    {
      "cell_type": "code",
      "source": [],
      "metadata": {
        "id": "B8DivligcGni"
      },
      "execution_count": null,
      "outputs": []
    },
    {
      "cell_type": "code",
      "source": [
        "from sklearn.metrics import mean_absolute_error\n",
        "error=mean_absolute_error(y_test,y_pred)\n",
        "error"
      ],
      "metadata": {
        "colab": {
          "base_uri": "https://localhost:8080/"
        },
        "id": "Q7mP5ybRHJsi",
        "outputId": "3a63bf18-1e00-4d12-95f8-179272913785"
      },
      "execution_count": null,
      "outputs": [
        {
          "output_type": "execute_result",
          "data": {
            "text/plain": [
              "1.1947417134056737"
            ]
          },
          "metadata": {},
          "execution_count": 18
        }
      ]
    },
    {
      "cell_type": "code",
      "source": [],
      "metadata": {
        "id": "xXEwX0bseDnF"
      },
      "execution_count": null,
      "outputs": []
    },
    {
      "cell_type": "code",
      "source": [
        "from sklearn.metrics import mean_absolute_percentage_error\n",
        "per=mean_absolute_percentage_error(y_test,y_pred)\n",
        "per"
      ],
      "metadata": {
        "colab": {
          "base_uri": "https://localhost:8080/"
        },
        "outputId": "f65ae3d3-09c3-4109-ecd9-de7318ba0b2b",
        "id": "E7MOJ2u_HxHr"
      },
      "execution_count": null,
      "outputs": [
        {
          "output_type": "execute_result",
          "data": {
            "text/plain": [
              "0.07695080788726726"
            ]
          },
          "metadata": {},
          "execution_count": 19
        }
      ]
    },
    {
      "cell_type": "code",
      "source": [],
      "metadata": {
        "id": "D8QUGTwFeFZi"
      },
      "execution_count": null,
      "outputs": []
    },
    {
      "cell_type": "code",
      "source": [
        "from sklearn.metrics import mean_squared_error\n",
        "squ=mean_squared_error(y_test,y_pred)\n",
        "squ"
      ],
      "metadata": {
        "colab": {
          "base_uri": "https://localhost:8080/"
        },
        "outputId": "786512ea-078a-4f1c-9ece-0615a0ef5b9b",
        "id": "TA7f2n7hIbzK"
      },
      "execution_count": null,
      "outputs": [
        {
          "output_type": "execute_result",
          "data": {
            "text/plain": [
              "2.3706599712256575"
            ]
          },
          "metadata": {},
          "execution_count": 20
        }
      ]
    },
    {
      "cell_type": "code",
      "source": [],
      "metadata": {
        "id": "pnpKl1Y1eQtK"
      },
      "execution_count": null,
      "outputs": []
    },
    {
      "cell_type": "code",
      "source": [
        "sqrt=np.sqrt(squ)\n",
        "sqrt"
      ],
      "metadata": {
        "colab": {
          "base_uri": "https://localhost:8080/"
        },
        "id": "C7c-8VDWLFHd",
        "outputId": "4b0afda0-08e4-4781-cf84-0ebacac30aec"
      },
      "execution_count": null,
      "outputs": [
        {
          "output_type": "execute_result",
          "data": {
            "text/plain": [
              "1.5396947656031235"
            ]
          },
          "metadata": {},
          "execution_count": 21
        }
      ]
    },
    {
      "cell_type": "code",
      "source": [],
      "metadata": {
        "id": "Qop_eJhGeUsw"
      },
      "execution_count": null,
      "outputs": []
    },
    {
      "cell_type": "code",
      "source": [
        "#r2 score\n",
        "from sklearn .metrics import r2_score\n",
        "r2=r2_score(y_test,y_pred)\n",
        "r2"
      ],
      "metadata": {
        "colab": {
          "base_uri": "https://localhost:8080/"
        },
        "id": "0shkfMusLXwP",
        "outputId": "7dfb3846-aec7-4dd6-c323-35552ae6dd6b"
      },
      "execution_count": null,
      "outputs": [
        {
          "output_type": "execute_result",
          "data": {
            "text/plain": [
              "0.9071151423684273"
            ]
          },
          "metadata": {},
          "execution_count": 22
        }
      ]
    }
  ]
}